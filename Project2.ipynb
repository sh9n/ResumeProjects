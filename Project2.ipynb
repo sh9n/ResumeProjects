{
 "cells": [
  {
   "cell_type": "markdown",
   "id": "694d837f-73be-43fe-8e7b-b716a8edc55e",
   "metadata": {},
   "source": [
    "# ITCS 3162 Data Mining Project 2:\n",
    "\n",
    "# Stardew Valley Item Profitability "
   ]
  },
  {
   "cell_type": "markdown",
   "id": "5daf10b1-463b-4c72-a1b3-2ccda540376d",
   "metadata": {},
   "source": [
    "### Shan Raheim "
   ]
  },
  {
   "cell_type": "markdown",
   "id": "97a7ca60-1544-4377-947b-334a8e82b783",
   "metadata": {},
   "source": [
    "## Problem Introduction"
   ]
  },
  {
   "cell_type": "markdown",
   "id": "e2bb789b-7ef2-4137-a8f2-374f9d6b3aaa",
   "metadata": {},
   "source": [
    "If you’ve ever played the game Stardew Valley, you’ve probably found yourself wondering which items are the most profitable to sell. Stardew Valley is, at its core, a farming simulator. On the surface, it seems like a simple game where you start a farm and grow crops—and if you think this, you're not wrong. But there's so much more to do in the game. Players can set up a farm to their liking, producing a variety of products that can be crafted. You can raise animals and explore different types of crops, items, and craftable goods. The main goal is to enjoy life on the farm, make money, and grow the farm you inherited from your grandfather. While it seems simple at first, the game can quickly become addictive.\n",
    "\n",
    "You get to know the town of Stardew Valley by meeting its villagers and exploring different areas of the game. You can build relationships with each villager and participate in various activities throughout the year. You can also start a family and manage your property in many ways. Beyond farming, players can fish, mine, and find other methods to generate profit, though some of these activities can be quite tedious and test your patience. This is where my project addresses the core issue of this topic.\n",
    "\n",
    "As a fellow player and community member, I quickly became addicted to the game, along with one of my friends. Initially, I didn’t think I would enjoy Stardew Valley, but I was completely wrong. After playing for a while and developing several long-standing farms, I frequently found myself wondering: What items are the most profitable? What should I focus my time and effort on? Throughout the game, I often looked up item values to determine what I should produce more of. Over time, I noticed patterns in what I chose to focus on, but I wasn’t the only one asking these questions. New players who were still figuring things out were in the same position. This realization inspired me to design this project around solving this issue."
   ]
  },
  {
   "cell_type": "markdown",
   "id": "7cac061c-a8c8-4591-9f63-e86cd29feabe",
   "metadata": {},
   "source": [
    "## Data Introduction and Pre-processing "
   ]
  },
  {
   "cell_type": "markdown",
   "id": "8bd971c4-ed7c-4fc2-b6aa-f92759c1d59c",
   "metadata": {},
   "source": [
    "By using the *Stardew Valley* wiki and my own game knowledge I put together my own spreadsheet/CSV of the data used in this project.  The columns included are item_name, quality, selling_price, and category.  The columns are self explanatory relating to an item and an example will be provided below.  The quality column was created since certain items have different tier qualities which are: Normal, Silver, Gold, and Iridium.  In the respective order mentioned beforehand an item's selling price increases with its quality. Quality and category columns can also be used to filter based on certain restrictions from those categories. \n",
    "\n",
    "The list is only composed of crops, animal products, and artisan goods since these are the main sources/categories of items the player can gain profit from at any point of the game from their farm.  The items included are **before the 1.6 update** since not all platforms have received the update which added new items.  The prices are based on the base prices of the items without the effect of special occupation perk bonuses like Tiller, Rancher, etc which increase certain item selling prices. \n",
    "\n",
    "To clarify before looking into any items, here are how some are made in-game:\n",
    "\n",
    "    - Cheese if made from milk, goat cheese from goat milk and so on\n",
    "    - Mayonnaise is made from eggs, void mayonnaise from void eggs and so on \n",
    "    - Fish roe are fish eggs and Sturgeon roe makes caviar (Sturgeon is the only fish where the roe when aged turns into caviar)\n",
    "    - Wine and jelly are made from mostly all fruits in the game\n",
    "    - Juice and pickles are made from mostly all vegetables in the game\n",
    "\n",
    "\n",
    "Foragable items are not included in this list since they cannot be “grown” and they must be found in the wild in the respective seasons. Cooking items are not included in this list as well since they have to be made from the items harvested. \n",
    "\n",
    "In game there is a category of rare fish called legendary fish like the Crimsonfish, Angler, Legend, Glacierfish, and Mutant Carp can only be caught once in a game lifetime by the player.  BEFORE the 1.6 update these fish cannot produce respective roe. This also includes the extra legendary fish added to the world after obtaining the *Qi’s Extended Family Quest* that once obtained adds another set of legendary fish to the game that can only be caught once by the player.  Clams, squid, and midnight squid are the only \"fish\" that do not produce roe until after the 1.6 update.  \n",
    "\n",
    "\n",
    "Item Profitability within the data is categorized like this:\n",
    "\n",
    "Item Selling Price <= 200 = Low Profitability\n",
    "\n",
    "Item Selling Price > 200 and <= 450 = Medium Profitability \n",
    "\n",
    "Item Selling Price > 450 = High Profitability\n",
    "\n",
    "Due to the classification above the column \"profitability\" was made to be used as the target and an item's profitability will be filled here. "
   ]
  },
  {
   "cell_type": "code",
   "execution_count": 2,
   "id": "98013e6c-b7f4-4069-8f5e-94fe5c919677",
   "metadata": {},
   "outputs": [],
   "source": [
    "import pandas as pd \n",
    "import seaborn as sb  \n",
    "import matplotlib.pyplot as plt\n",
    "import sklearn as sk"
   ]
  },
  {
   "cell_type": "code",
   "execution_count": 3,
   "id": "23ba8360-a6ac-417e-b044-5a6389e4b0ea",
   "metadata": {},
   "outputs": [],
   "source": [
    "from sklearn.datasets import load_iris\n",
    "from sklearn.model_selection import train_test_split\n",
    "from sklearn.naive_bayes import GaussianNB\n",
    "from sklearn.metrics import accuracy_score, confusion_matrix, classification_report"
   ]
  },
  {
   "cell_type": "code",
   "execution_count": 4,
   "id": "59d20205-e271-4d52-a505-2ec15f649ef2",
   "metadata": {},
   "outputs": [],
   "source": [
    "data_path = \"../ITSC3162/stardew_item_info.csv\" \n",
    "data = pd.read_csv(data_path)\n",
    "df = pd.DataFrame(data)"
   ]
  },
  {
   "cell_type": "markdown",
   "id": "bf310ce0-51b0-4eb3-b121-ac28f0e7f529",
   "metadata": {},
   "source": [
    "### Data Example"
   ]
  },
  {
   "cell_type": "code",
   "execution_count": 69,
   "id": "017fe5d4-fea3-4ca8-bbc2-909c71519cc4",
   "metadata": {},
   "outputs": [
    {
     "name": "stdout",
     "output_type": "stream",
     "text": [
      "(602, 5)\n"
     ]
    },
    {
     "data": {
      "text/html": [
       "<div>\n",
       "<style scoped>\n",
       "    .dataframe tbody tr th:only-of-type {\n",
       "        vertical-align: middle;\n",
       "    }\n",
       "\n",
       "    .dataframe tbody tr th {\n",
       "        vertical-align: top;\n",
       "    }\n",
       "\n",
       "    .dataframe thead th {\n",
       "        text-align: right;\n",
       "    }\n",
       "</style>\n",
       "<table border=\"1\" class=\"dataframe\">\n",
       "  <thead>\n",
       "    <tr style=\"text-align: right;\">\n",
       "      <th></th>\n",
       "      <th>item_name</th>\n",
       "      <th>quality</th>\n",
       "      <th>selling_price</th>\n",
       "      <th>category</th>\n",
       "      <th>profitability</th>\n",
       "    </tr>\n",
       "  </thead>\n",
       "  <tbody>\n",
       "    <tr>\n",
       "      <th>0</th>\n",
       "      <td>Parsnip</td>\n",
       "      <td>Normal</td>\n",
       "      <td>35</td>\n",
       "      <td>Crop</td>\n",
       "      <td>NaN</td>\n",
       "    </tr>\n",
       "    <tr>\n",
       "      <th>1</th>\n",
       "      <td>Parsnip</td>\n",
       "      <td>Silver</td>\n",
       "      <td>43</td>\n",
       "      <td>Crop</td>\n",
       "      <td>NaN</td>\n",
       "    </tr>\n",
       "    <tr>\n",
       "      <th>2</th>\n",
       "      <td>Parsnip</td>\n",
       "      <td>Gold</td>\n",
       "      <td>52</td>\n",
       "      <td>Crop</td>\n",
       "      <td>NaN</td>\n",
       "    </tr>\n",
       "    <tr>\n",
       "      <th>3</th>\n",
       "      <td>Parsnip</td>\n",
       "      <td>Iridium</td>\n",
       "      <td>70</td>\n",
       "      <td>Crop</td>\n",
       "      <td>NaN</td>\n",
       "    </tr>\n",
       "    <tr>\n",
       "      <th>4</th>\n",
       "      <td>Cauliflower</td>\n",
       "      <td>Normal</td>\n",
       "      <td>175</td>\n",
       "      <td>Crop</td>\n",
       "      <td>NaN</td>\n",
       "    </tr>\n",
       "    <tr>\n",
       "      <th>5</th>\n",
       "      <td>Cauliflower</td>\n",
       "      <td>Silver</td>\n",
       "      <td>218</td>\n",
       "      <td>Crop</td>\n",
       "      <td>NaN</td>\n",
       "    </tr>\n",
       "    <tr>\n",
       "      <th>6</th>\n",
       "      <td>Cauliflower</td>\n",
       "      <td>Gold</td>\n",
       "      <td>262</td>\n",
       "      <td>Crop</td>\n",
       "      <td>NaN</td>\n",
       "    </tr>\n",
       "    <tr>\n",
       "      <th>7</th>\n",
       "      <td>Cauliflower</td>\n",
       "      <td>Iridium</td>\n",
       "      <td>350</td>\n",
       "      <td>Crop</td>\n",
       "      <td>NaN</td>\n",
       "    </tr>\n",
       "    <tr>\n",
       "      <th>8</th>\n",
       "      <td>Potato</td>\n",
       "      <td>Normal</td>\n",
       "      <td>80</td>\n",
       "      <td>Crop</td>\n",
       "      <td>NaN</td>\n",
       "    </tr>\n",
       "    <tr>\n",
       "      <th>9</th>\n",
       "      <td>Potato</td>\n",
       "      <td>Silver</td>\n",
       "      <td>100</td>\n",
       "      <td>Crop</td>\n",
       "      <td>NaN</td>\n",
       "    </tr>\n",
       "    <tr>\n",
       "      <th>10</th>\n",
       "      <td>Potato</td>\n",
       "      <td>Gold</td>\n",
       "      <td>120</td>\n",
       "      <td>Crop</td>\n",
       "      <td>NaN</td>\n",
       "    </tr>\n",
       "    <tr>\n",
       "      <th>11</th>\n",
       "      <td>Potato</td>\n",
       "      <td>Iridium</td>\n",
       "      <td>160</td>\n",
       "      <td>Crop</td>\n",
       "      <td>NaN</td>\n",
       "    </tr>\n",
       "    <tr>\n",
       "      <th>12</th>\n",
       "      <td>Green Bean</td>\n",
       "      <td>Normal</td>\n",
       "      <td>40</td>\n",
       "      <td>Crop</td>\n",
       "      <td>NaN</td>\n",
       "    </tr>\n",
       "    <tr>\n",
       "      <th>13</th>\n",
       "      <td>Green Bean</td>\n",
       "      <td>Silver</td>\n",
       "      <td>50</td>\n",
       "      <td>Crop</td>\n",
       "      <td>NaN</td>\n",
       "    </tr>\n",
       "    <tr>\n",
       "      <th>14</th>\n",
       "      <td>Green Bean</td>\n",
       "      <td>Gold</td>\n",
       "      <td>60</td>\n",
       "      <td>Crop</td>\n",
       "      <td>NaN</td>\n",
       "    </tr>\n",
       "  </tbody>\n",
       "</table>\n",
       "</div>"
      ],
      "text/plain": [
       "      item_name   quality  selling_price category  profitability\n",
       "0       Parsnip   Normal              35     Crop            NaN\n",
       "1       Parsnip   Silver              43     Crop            NaN\n",
       "2       Parsnip     Gold              52     Crop            NaN\n",
       "3       Parsnip  Iridium              70     Crop            NaN\n",
       "4   Cauliflower   Normal             175     Crop            NaN\n",
       "5   Cauliflower   Silver             218     Crop            NaN\n",
       "6   Cauliflower     Gold             262     Crop            NaN\n",
       "7   Cauliflower  Iridium             350     Crop            NaN\n",
       "8        Potato   Normal              80     Crop            NaN\n",
       "9        Potato   Silver             100     Crop            NaN\n",
       "10       Potato     Gold             120     Crop            NaN\n",
       "11       Potato  Iridium             160     Crop            NaN\n",
       "12   Green Bean   Normal              40     Crop            NaN\n",
       "13   Green Bean   Silver              50     Crop            NaN\n",
       "14   Green Bean     Gold              60     Crop            NaN"
      ]
     },
     "execution_count": 69,
     "metadata": {},
     "output_type": "execute_result"
    }
   ],
   "source": [
    "print(df.shape)\n",
    "df.head(15)"
   ]
  },
  {
   "cell_type": "markdown",
   "id": "24ee5790-e3f7-49a2-8a5c-8cc8871c6c66",
   "metadata": {},
   "source": [
    "### Python Function to Determine Profitability "
   ]
  },
  {
   "cell_type": "code",
   "execution_count": 5,
   "id": "ffa661a3-caed-4977-81ae-bafa4f77fc5d",
   "metadata": {},
   "outputs": [],
   "source": [
    "def profitability_calc(selling_price):\n",
    "    if (selling_price) <= 200:\n",
    "        return \"Low\"\n",
    "    elif (selling_price > 200) and (selling_price <= 450):\n",
    "        return \"Medium\"\n",
    "    else:\n",
    "        return \"High\""
   ]
  },
  {
   "cell_type": "markdown",
   "id": "48e379c3-3756-4c6b-bb68-98b1966412dc",
   "metadata": {},
   "source": [
    "### Calculate Profitability to Each Item and Update the Profitability Column"
   ]
  },
  {
   "cell_type": "code",
   "execution_count": 35,
   "id": "40444d46-9d43-403e-b6b3-292cbd9f1ab6",
   "metadata": {},
   "outputs": [],
   "source": [
    "df['profitability'] = df['selling_price'].apply(profitability_calc)"
   ]
  },
  {
   "cell_type": "code",
   "execution_count": 37,
   "id": "d7bf920e-6d08-4d02-8dec-79efbd8ab73a",
   "metadata": {},
   "outputs": [
    {
     "data": {
      "text/html": [
       "<div>\n",
       "<style scoped>\n",
       "    .dataframe tbody tr th:only-of-type {\n",
       "        vertical-align: middle;\n",
       "    }\n",
       "\n",
       "    .dataframe tbody tr th {\n",
       "        vertical-align: top;\n",
       "    }\n",
       "\n",
       "    .dataframe thead th {\n",
       "        text-align: right;\n",
       "    }\n",
       "</style>\n",
       "<table border=\"1\" class=\"dataframe\">\n",
       "  <thead>\n",
       "    <tr style=\"text-align: right;\">\n",
       "      <th></th>\n",
       "      <th>item_name</th>\n",
       "      <th>quality</th>\n",
       "      <th>selling_price</th>\n",
       "      <th>category</th>\n",
       "      <th>profitability</th>\n",
       "    </tr>\n",
       "  </thead>\n",
       "  <tbody>\n",
       "    <tr>\n",
       "      <th>0</th>\n",
       "      <td>Parsnip</td>\n",
       "      <td>Normal</td>\n",
       "      <td>35</td>\n",
       "      <td>Crop</td>\n",
       "      <td>Low</td>\n",
       "    </tr>\n",
       "    <tr>\n",
       "      <th>1</th>\n",
       "      <td>Parsnip</td>\n",
       "      <td>Silver</td>\n",
       "      <td>43</td>\n",
       "      <td>Crop</td>\n",
       "      <td>Low</td>\n",
       "    </tr>\n",
       "    <tr>\n",
       "      <th>2</th>\n",
       "      <td>Parsnip</td>\n",
       "      <td>Gold</td>\n",
       "      <td>52</td>\n",
       "      <td>Crop</td>\n",
       "      <td>Low</td>\n",
       "    </tr>\n",
       "    <tr>\n",
       "      <th>3</th>\n",
       "      <td>Parsnip</td>\n",
       "      <td>Iridium</td>\n",
       "      <td>70</td>\n",
       "      <td>Crop</td>\n",
       "      <td>Low</td>\n",
       "    </tr>\n",
       "    <tr>\n",
       "      <th>4</th>\n",
       "      <td>Cauliflower</td>\n",
       "      <td>Normal</td>\n",
       "      <td>175</td>\n",
       "      <td>Crop</td>\n",
       "      <td>Low</td>\n",
       "    </tr>\n",
       "    <tr>\n",
       "      <th>5</th>\n",
       "      <td>Cauliflower</td>\n",
       "      <td>Silver</td>\n",
       "      <td>218</td>\n",
       "      <td>Crop</td>\n",
       "      <td>Medium</td>\n",
       "    </tr>\n",
       "    <tr>\n",
       "      <th>6</th>\n",
       "      <td>Cauliflower</td>\n",
       "      <td>Gold</td>\n",
       "      <td>262</td>\n",
       "      <td>Crop</td>\n",
       "      <td>Medium</td>\n",
       "    </tr>\n",
       "    <tr>\n",
       "      <th>7</th>\n",
       "      <td>Cauliflower</td>\n",
       "      <td>Iridium</td>\n",
       "      <td>350</td>\n",
       "      <td>Crop</td>\n",
       "      <td>Medium</td>\n",
       "    </tr>\n",
       "    <tr>\n",
       "      <th>8</th>\n",
       "      <td>Potato</td>\n",
       "      <td>Normal</td>\n",
       "      <td>80</td>\n",
       "      <td>Crop</td>\n",
       "      <td>Low</td>\n",
       "    </tr>\n",
       "    <tr>\n",
       "      <th>9</th>\n",
       "      <td>Potato</td>\n",
       "      <td>Silver</td>\n",
       "      <td>100</td>\n",
       "      <td>Crop</td>\n",
       "      <td>Low</td>\n",
       "    </tr>\n",
       "    <tr>\n",
       "      <th>10</th>\n",
       "      <td>Potato</td>\n",
       "      <td>Gold</td>\n",
       "      <td>120</td>\n",
       "      <td>Crop</td>\n",
       "      <td>Low</td>\n",
       "    </tr>\n",
       "    <tr>\n",
       "      <th>11</th>\n",
       "      <td>Potato</td>\n",
       "      <td>Iridium</td>\n",
       "      <td>160</td>\n",
       "      <td>Crop</td>\n",
       "      <td>Low</td>\n",
       "    </tr>\n",
       "    <tr>\n",
       "      <th>12</th>\n",
       "      <td>Green Bean</td>\n",
       "      <td>Normal</td>\n",
       "      <td>40</td>\n",
       "      <td>Crop</td>\n",
       "      <td>Low</td>\n",
       "    </tr>\n",
       "    <tr>\n",
       "      <th>13</th>\n",
       "      <td>Green Bean</td>\n",
       "      <td>Silver</td>\n",
       "      <td>50</td>\n",
       "      <td>Crop</td>\n",
       "      <td>Low</td>\n",
       "    </tr>\n",
       "    <tr>\n",
       "      <th>14</th>\n",
       "      <td>Green Bean</td>\n",
       "      <td>Gold</td>\n",
       "      <td>60</td>\n",
       "      <td>Crop</td>\n",
       "      <td>Low</td>\n",
       "    </tr>\n",
       "  </tbody>\n",
       "</table>\n",
       "</div>"
      ],
      "text/plain": [
       "      item_name   quality  selling_price category profitability\n",
       "0       Parsnip   Normal              35     Crop           Low\n",
       "1       Parsnip   Silver              43     Crop           Low\n",
       "2       Parsnip     Gold              52     Crop           Low\n",
       "3       Parsnip  Iridium              70     Crop           Low\n",
       "4   Cauliflower   Normal             175     Crop           Low\n",
       "5   Cauliflower   Silver             218     Crop        Medium\n",
       "6   Cauliflower     Gold             262     Crop        Medium\n",
       "7   Cauliflower  Iridium             350     Crop        Medium\n",
       "8        Potato   Normal              80     Crop           Low\n",
       "9        Potato   Silver             100     Crop           Low\n",
       "10       Potato     Gold             120     Crop           Low\n",
       "11       Potato  Iridium             160     Crop           Low\n",
       "12   Green Bean   Normal              40     Crop           Low\n",
       "13   Green Bean   Silver              50     Crop           Low\n",
       "14   Green Bean     Gold              60     Crop           Low"
      ]
     },
     "execution_count": 37,
     "metadata": {},
     "output_type": "execute_result"
    }
   ],
   "source": [
    "df.head(15)"
   ]
  },
  {
   "cell_type": "markdown",
   "id": "6b800d7e-321d-4716-9f9a-3e8d5c0b63b7",
   "metadata": {},
   "source": [
    "### Data Visualization to Aid in Naive Bayes Model Toward the Bottom "
   ]
  },
  {
   "cell_type": "markdown",
   "id": "1ff00e53-2e9b-433e-ade6-e5bf4faa2127",
   "metadata": {},
   "source": [
    "Below is a scatterplot that works well with Naive Bayes models since in Naive Bayes models each item is considered independent of each other which works well with the CSV I created.  Each item in respect to one another is their own item with their own attributes that distinguish themselves from each other.  I also used a scatterplot to help visualize the data. When each item is classified a person can observe the visual clusters where certain items are grouped together.    \r\n"
   ]
  },
  {
   "cell_type": "code",
   "execution_count": 171,
   "id": "debdc307-2675-4ba4-8026-5d6d756a9503",
   "metadata": {},
   "outputs": [
    {
     "data": {
      "text/plain": [
       "<Axes: xlabel='category', ylabel='selling_price'>"
      ]
     },
     "execution_count": 171,
     "metadata": {},
     "output_type": "execute_result"
    },
    {
     "data": {
      "image/png": "[encoded data removed]",
      "text/plain": [
       "<Figure size 640x480 with 1 Axes>"
      ]
     },
     "metadata": {},
     "output_type": "display_data"
    }
   ],
   "source": [
    "plt.figure()\n",
    "sb.scatterplot(x = df['category'], y = df['selling_price'], hue = df['profitability'])"
   ]
  },
  {
   "cell_type": "markdown",
   "id": "62c22c25-bf44-4abe-b453-7bd675996b29",
   "metadata": {},
   "source": [
    "### Modeling and Storytelling"
   ]
  },
  {
   "cell_type": "markdown",
   "id": "c07dc848-f872-4ae6-a02d-53b6f73e5f90",
   "metadata": {},
   "source": [
    "For my classification algorithm/model I chose Naive Bayes since it made the most sense for my data.  Due to my target being the selling_price column and each item's respective profitability is based off of it this is how the classification element is represented in my project.  Since each item has their own selling prices and categories they can all be considered independent of each other.  Also due to the simplicity of my CSV/data Naive Bayes matches well since both are simple and efficient.  Along with profitability classifications the respective item categories works well with a Naive Bayes model since it can also be used for classification within this project.  With Naive Bayes there are different types that can be used but for this project Gaussian Naive Bayes was used since others were more specialized for text classification, multidimensional aspects of Naive Bayes, imbalanced data, and larger data sets. \r\n",
    "\r\n",
    "\r\n",
    "\n"
   ]
  },
  {
   "cell_type": "code",
   "execution_count": 55,
   "id": "35214bdc-0665-4fb9-a678-ad66408b6147",
   "metadata": {},
   "outputs": [
    {
     "name": "stdout",
     "output_type": "stream",
     "text": [
      "0.9668874172185431\n"
     ]
    }
   ],
   "source": [
    "X = df.iloc[:, 2].values.reshape(-1, 1)\n",
    "y = df.iloc[:, -1].values\n",
    "\n",
    "X_train, X_test, y_train, y_test = train_test_split(X, y, test_size=0.25, random_state=42)\n",
    "\n",
    "gnb = GaussianNB()\n",
    "gnb.fit(X_train, y_train)\n",
    "\n",
    "y_pred = gnb.predict(X_test)\n",
    "\n",
    "accuracy = accuracy_score(y_test, y_pred)\n",
    "\n",
    "print(accuracy)"
   ]
  },
  {
   "cell_type": "markdown",
   "id": "f105a507-2c71-4279-8727-8ef90e15a5e0",
   "metadata": {},
   "source": [
    "As indicated above the model performs well that 1.0 translates to 100% accuracy.  It seems skeptical at first but it makes sense since the dataset used did not have a high enough complexity.  Since this is a Naive Bayes model when each item is classified the overall accuracy has been obtained by combining the probabilities of each item getting classified.  \r\n",
    "\r\n",
    "The impact of my project in relation to the game's community and people interested in the game can be that if a player interested in this game can look at this project and analyze what items are the most profitable.  They can invest more time into items that will make the most type of profit and which ones to move away from since time and effort can be saved.  To support the information the model with the accuracy calculated can be used to back up the item profitability used.  A negative impact/con of this project that I notice is that due to the data's simplicity and complexity the accuracy can be easily guessed and explained after the first test.  A higher complexity could be better for this project to help explain which item can be most profitable and how the tests will support these cases but since Naive Bayes was used it is relatively easy to conduct this process.  Due to the simplicity it can cause skepticism to arise causing doubts with the tests and model.  \r\n",
    "\r\n",
    "\r\n",
    "\r\n"
   ]
  },
  {
   "cell_type": "markdown",
   "id": "064171cb-a6c6-4c90-99a3-d55ce0ed9d0d",
   "metadata": {},
   "source": [
    "### Sources "
   ]
  },
  {
   "cell_type": "markdown",
   "id": "fbffe0a3-2b23-4c72-bb17-9c8b89a17f5d",
   "metadata": {},
   "source": [
    "https://stardewvalleywiki.com/Stardew_Valley_Wiki \r\n",
    "https://docs.google.com/spreadsheets/d/19Xl9uWHdYL4ilcqrWV4mUPCXl91mfHNzjogzOIX8OEw/edit?gid=0#gid=0\n",
    "\n",
    "*Stardew Valley.* 2016. Nintendo Switch, Android, macOS, PlayStation 4, iOS. ConcernedApe "
   ]
  },
  {
   "cell_type": "code",
   "execution_count": null,
   "id": "3acd2c52-4d48-4635-8de8-deab31e9023d",
   "metadata": {},
   "outputs": [],
   "source": []
  }
 ],
 "metadata": {
  "kernelspec": {
   "display_name": "Python 3 (ipykernel)",
   "language": "python",
   "name": "python3"
  },
  "language_info": {
   "codemirror_mode": {
    "name": "ipython",
    "version": 3
   },
   "file_extension": ".py",
   "mimetype": "text/x-python",
   "name": "python",
   "nbconvert_exporter": "python",
   "pygments_lexer": "ipython3",
   "version": "3.12.4"
  }
 },
 "nbformat": 4,
 "nbformat_minor": 5
}
